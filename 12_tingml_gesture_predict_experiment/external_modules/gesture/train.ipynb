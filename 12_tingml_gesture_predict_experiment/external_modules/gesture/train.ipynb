{
 "cells": [
  {
   "cell_type": "markdown",
   "metadata": {},
   "source": [
    "##### 01 数据集导入，创建训练集和测试集。通过查看注释，理解整个流程。"
   ]
  },
  {
   "cell_type": "code",
   "execution_count": 1,
   "metadata": {},
   "outputs": [
    {
     "name": "stdout",
     "output_type": "stream",
     "text": [
      "(1232, 60) (308, 60) (1232,) (308,)\n"
     ]
    }
   ],
   "source": [
    "import glob\n",
    "import numpy as np\n",
    "# 训练集、测试集划分\n",
    "from sklearn.model_selection import train_test_split\n",
    "# 数据集相对路径\n",
    "DATA_PATH = \"../../../10_tingml_datasets/\"\n",
    "# LABELS 的内容尽量与前面store_data.py保持一致\n",
    "LABELS = [\"Stationary\", \"Tilted\", \"Rotating\", \"Moving\"]\n",
    "# 代表一个样本内容，如连续10次传感器读到的6轴数据作为一个样本\n",
    "SAMPLES_PER_GESTURE = 10\n",
    "def load_one_label_data(label):\n",
    "    path = DATA_PATH + label + \"*.npy\"\n",
    "    files = glob.glob(path)\n",
    "    datas = []\n",
    "    for file in files:\n",
    "        try:\n",
    "            data = np.load(file)\n",
    "            # 切除多余数据，如数据当中有61份，但每个样本只需要10份，那么最后一份需要丢弃。\n",
    "            num_slice = len(data) // SAMPLES_PER_GESTURE\n",
    "            datas.append(data[: num_slice * SAMPLES_PER_GESTURE, :])\n",
    "        except Exception as e:\n",
    "            print(e)\n",
    "    datas = np.concatenate(datas, axis=0)\n",
    "    # 由于本案例给的是全连接层，输入为1维数据。(其余如conv需要自行根据模型输入修改尺寸，如二维)\n",
    "    # MLP\n",
    "    # datas = np.reshape(datas,(-1, 6 * SAMPLES_PER_GESTURE,),)  # Modified here\n",
    "    # CNN 1\n",
    "    datas = np.reshape(datas,(-1, 6 * SAMPLES_PER_GESTURE, 1),)  # Modified here\n",
    "    idx = LABELS.index(label)\n",
    "    labels = np.ones(datas.shape[0]) * idx\n",
    "    return datas, labels\n",
    "all_datas = []\n",
    "all_labels = []\n",
    "# 导入每个label对应的数据\n",
    "for label in LABELS:\n",
    "    datas, labels = load_one_label_data(label)\n",
    "    all_datas.append(datas)\n",
    "    all_labels.append(labels)\n",
    "dataX = np.concatenate(all_datas, axis=0)\n",
    "dataY = np.concatenate(all_labels, axis=0)\n",
    "# 输入和样本到此创建完毕\n",
    "\n",
    "# 训练集、测试集划分\n",
    "# test_size 表示数据集里面有20%将划分给测试集\n",
    "# stratify=dataY指定按label进行划分, 确保数据集划分公平\n",
    "xTrain, xTest, yTrain, yTest = train_test_split(\n",
    "    dataX, dataY, test_size=0.2, stratify=dataY\n",
    ")\n",
    "print(xTrain.shape, xTest.shape, yTrain.shape, yTest.shape)"
   ]
  },
  {
   "cell_type": "markdown",
   "metadata": {},
   "source": [
    "##### 02 模型创建\n",
    "下面将创建很简单的多层感知机模型，后续可自行定义模型结构。需要根据自身需求，自行上网查询其他模型，如CNN，切记模型不要太大，嵌入式设备大致提供32K空间供运行模型。\n",
    "模型需要注意输入尺寸，如CNN往往多维数据，如**Conv1d 输入二维，可将输入改为(6 * SAMPLES_PER_GESTURE,1)或者(SAMPLES_PER_GESTURE, 6), 上面数据集对应尺寸也需要修改**"
   ]
  },
  {
   "cell_type": "code",
   "execution_count": 4,
   "metadata": {},
   "outputs": [
    {
     "name": "stdout",
     "output_type": "stream",
     "text": [
      "Model: \"sequential_3\"\n",
      "_________________________________________________________________\n",
      "Layer (type)                 Output Shape              Param #   \n",
      "=================================================================\n",
      "conv1d_4 (Conv1D)            (None, 60, 8)             32        \n",
      "_________________________________________________________________\n",
      "conv1d_5 (Conv1D)            (None, 60, 8)             200       \n",
      "_________________________________________________________________\n",
      "global_average_pooling1d_2 ( (None, 8)                 0         \n",
      "_________________________________________________________________\n",
      "dense_4 (Dense)              (None, 120)               1080      \n",
      "_________________________________________________________________\n",
      "dropout_2 (Dropout)          (None, 120)               0         \n",
      "_________________________________________________________________\n",
      "dense_5 (Dense)              (None, 4)                 484       \n",
      "=================================================================\n",
      "Total params: 1,796\n",
      "Trainable params: 1,796\n",
      "Non-trainable params: 0\n",
      "_________________________________________________________________\n"
     ]
    }
   ],
   "source": [
    "import os\n",
    "# 0 = INFO, 1 = WARNING, 2 = ERROR, 3 = FATAL\n",
    "os.environ['TF_CPP_MIN_LOG_LEVEL'] = '2'\n",
    "import tensorflow as tf\n",
    "import tensorflow.keras as keras\n",
    "SAMPLES_PER_GESTURE = 10\n",
    "LABELS = [\"Stationary\", \"Tilted\", \"Rotating\", \"Moving\"]\n",
    "\n",
    "# 设置环境变量，控制日志级别\n",
    "def mlp():\n",
    "    # 一个用于线性堆叠多个网络层的模型。\n",
    "    # Sequential模型是最简单的神经网络模型，它按照层的顺序依次堆叠，每一层的输出会成为下一层的输入。\n",
    "    model = keras.Sequential()\n",
    "    # 第一层, 添加全连接层，输出尺寸为64，激活函数采用\"relu\"\n",
    "    # 第一层需要制定输入大小，这里和数据集对应input_shape=(6 * SAMPLES_PER_GESTURE,)\n",
    "    model.add(keras.layers.Dense(64, activation=\"relu\", input_shape=(6 * SAMPLES_PER_GESTURE,)))\n",
    "    # 添加池化层，防止模型过拟合，每次自动忘记20%的参数\n",
    "    model.add(keras.layers.Dropout(0.2))\n",
    "    # 最后一层，全连接层，输出尺寸对应labels数量，激活函数采用\"softmax\"\n",
    "    # softmaxs输出的结果代表每个label的概率，如第0个代表label 0的概率\n",
    "    model.add(keras.layers.Dense(len(LABELS), activation=\"softmax\"))\n",
    "    return model\n",
    "def cnn():\n",
    "    # 一个用于线性堆叠多个网络层的模型。\n",
    "    # Sequential模型是最简单的神经网络模型，它按照层的顺序依次堆叠，每一层的输出会成为下一层的输入。\n",
    "    model = keras.Sequential()\n",
    "    # 注意CNN与MLP的输入shape\n",
    "    # 16个输出通道，3为卷积核大小\n",
    "    model.add(\n",
    "        keras.layers.Conv1D(\n",
    "            8,3,padding=\"same\",activation=\"relu\",input_shape=(6 * SAMPLES_PER_GESTURE, 1),\n",
    "        )\n",
    "    )\n",
    "    model.add(keras.layers.Conv1D(8, 3, padding=\"same\", activation=\"relu\"))\n",
    "    model.add(keras.layers.GlobalAveragePooling1D())\n",
    "    model.add(keras.layers.Dense(16, activation=\"relu\"))\n",
    "    model.add(keras.layers.Dropout(0.2))\n",
    "    model.add(keras.layers.Dense(len(LABELS), activation=\"softmax\"))\n",
    "    return model\n",
    "\n",
    "\n",
    "model = cnn()\n",
    "# 打印模型结构\n",
    "model.summary()"
   ]
  },
  {
   "cell_type": "markdown",
   "metadata": {},
   "source": [
    "##### 03 模型训练及测试"
   ]
  },
  {
   "cell_type": "code",
   "execution_count": 6,
   "metadata": {},
   "outputs": [
    {
     "name": "stderr",
     "output_type": "stream",
     "text": [
      "/home/user/anaconda3/envs/test/lib/python3.8/site-packages/keras/optimizer_v2/optimizer_v2.py:355: UserWarning: The `lr` argument is deprecated, use `learning_rate` instead.\n",
      "  warnings.warn(\n"
     ]
    },
    {
     "ename": "NameError",
     "evalue": "name 'xTrain' is not defined",
     "output_type": "error",
     "traceback": [
      "\u001b[0;31m---------------------------------------------------------------------------\u001b[0m",
      "\u001b[0;31mNameError\u001b[0m                                 Traceback (most recent call last)",
      "Cell \u001b[0;32mIn[6], line 30\u001b[0m\n\u001b[1;32m     18\u001b[0m checkpoint \u001b[38;5;241m=\u001b[39m ModelCheckpoint(\n\u001b[1;32m     19\u001b[0m     filepath,\n\u001b[1;32m     20\u001b[0m     monitor\u001b[38;5;241m=\u001b[39m\u001b[38;5;124m\"\u001b[39m\u001b[38;5;124mval_sparse_categorical_accuracy\u001b[39m\u001b[38;5;124m\"\u001b[39m,\n\u001b[0;32m   (...)\u001b[0m\n\u001b[1;32m     23\u001b[0m     mode\u001b[38;5;241m=\u001b[39m\u001b[38;5;124m\"\u001b[39m\u001b[38;5;124mmax\u001b[39m\u001b[38;5;124m\"\u001b[39m,\n\u001b[1;32m     24\u001b[0m )\n\u001b[1;32m     25\u001b[0m \u001b[38;5;66;03m# 模型训练, 训练集，batch_size为批大小，可提高训练速度\u001b[39;00m\n\u001b[1;32m     26\u001b[0m \u001b[38;5;66;03m# validation_data指明验证集，epochs表示训练迭代轮数\u001b[39;00m\n\u001b[1;32m     27\u001b[0m \u001b[38;5;66;03m# verbose=1表示打印训练日志\u001b[39;00m\n\u001b[1;32m     28\u001b[0m \u001b[38;5;66;03m# callbacks调用上述保存模型的方法\u001b[39;00m\n\u001b[1;32m     29\u001b[0m history \u001b[38;5;241m=\u001b[39m model\u001b[38;5;241m.\u001b[39mfit(\n\u001b[0;32m---> 30\u001b[0m     \u001b[43mxTrain\u001b[49m,\n\u001b[1;32m     31\u001b[0m     yTrain,\n\u001b[1;32m     32\u001b[0m     batch_size\u001b[38;5;241m=\u001b[39m\u001b[38;5;241m8\u001b[39m,\n\u001b[1;32m     33\u001b[0m     validation_data\u001b[38;5;241m=\u001b[39m(xTest, yTest),\n\u001b[1;32m     34\u001b[0m     epochs\u001b[38;5;241m=\u001b[39m\u001b[38;5;241m50\u001b[39m,\n\u001b[1;32m     35\u001b[0m     verbose\u001b[38;5;241m=\u001b[39m\u001b[38;5;241m1\u001b[39m,\n\u001b[1;32m     36\u001b[0m     callbacks\u001b[38;5;241m=\u001b[39m[checkpoint],\n\u001b[1;32m     37\u001b[0m )\n\u001b[1;32m     38\u001b[0m \u001b[38;5;66;03m# 至此模型训练完毕\u001b[39;00m\n",
      "\u001b[0;31mNameError\u001b[0m: name 'xTrain' is not defined"
     ]
    }
   ],
   "source": [
    "from tensorflow.keras.callbacks import ModelCheckpoint\n",
    "# 加载模型\n",
    "from tensorflow.keras.models import load_model\n",
    "# 测试模型性能\n",
    "from sklearn.metrics import confusion_matrix\n",
    "# 模型训练优化器，学习率为0.001\n",
    "optimizer = keras.optimizers.Adam(lr=0.001)\n",
    "# 制定模型优化器，和损失函数、评价指标\n",
    "model.compile(\n",
    "    loss=\"sparse_categorical_crossentropy\",\n",
    "    optimizer=optimizer,\n",
    "    metrics=[\"sparse_categorical_accuracy\"],\n",
    ")\n",
    "# 制定保存模型的路径\n",
    "filepath = \"best_model.h5\"\n",
    "model.save(filepath)\n",
    "# 训练时，保存最好模型\n",
    "checkpoint = ModelCheckpoint(\n",
    "    filepath,\n",
    "    monitor=\"val_sparse_categorical_accuracy\",\n",
    "    verbose=1,\n",
    "    save_best_only=True,\n",
    "    mode=\"max\",\n",
    ")\n",
    "# 模型训练, 训练集，batch_size为批大小，可提高训练速度\n",
    "# validation_data指明验证集，epochs表示训练迭代轮数\n",
    "# verbose=1表示打印训练日志\n",
    "# callbacks调用上述保存模型的方法\n",
    "history = model.fit(\n",
    "    xTrain,\n",
    "    yTrain,\n",
    "    batch_size=8,\n",
    "    validation_data=(xTest, yTest),\n",
    "    epochs=50,\n",
    "    verbose=1,\n",
    "    callbacks=[checkpoint],\n",
    ")\n",
    "# 至此模型训练完毕"
   ]
  },
  {
   "cell_type": "code",
   "execution_count": 4,
   "metadata": {},
   "outputs": [
    {
     "name": "stdout",
     "output_type": "stream",
     "text": [
      "10/10 [==============================] - 0s 3ms/step\n",
      "[[68  0  0  0]\n",
      " [ 0 80  0  0]\n",
      " [ 0  0 88  0]\n",
      " [ 0  0  0 72]]\n"
     ]
    }
   ],
   "source": [
    "# 加载模型\n",
    "model = load_model(filepath)\n",
    "# 模型推理，预测\n",
    "predictions = model.predict(xTest)\n",
    "predictions = np.argmax(predictions, axis=1)\n",
    "# 查看混淆矩阵，效果越好，预测则集中在对角线。\n",
    "cm = confusion_matrix(yTest, predictions)\n",
    "print(cm)"
   ]
  },
  {
   "cell_type": "markdown",
   "metadata": {},
   "source": [
    "由于运动状态简单，上述最简单的模型可能也会获得不错的性能，当运动状态变得复杂，上述MLP模型性能将很难满足需求。\n",
    "#### 04 生成最终部署的模型\n",
    "由于RIOT系统使用的时tflite-micro库且资源有限，将模型量化，并保存成tflite-micro可识别的格式，注意\n",
    "`data_test = np.reshape(data_test, (-1, 6 * SAMPLES_PER_GESTURE, ))`后的尺寸维度和大小需要和前面大致对应"
   ]
  },
  {
   "cell_type": "code",
   "execution_count": 7,
   "metadata": {},
   "outputs": [
    {
     "name": "stdout",
     "output_type": "stream",
     "text": [
      "INFO:tensorflow:Assets written to: /tmp/tmp1jqk0gof/assets\n"
     ]
    },
    {
     "ename": "NameError",
     "evalue": "name 'xTest' is not defined",
     "output_type": "error",
     "traceback": [
      "\u001b[0;31m---------------------------------------------------------------------------\u001b[0m",
      "\u001b[0;31mNameError\u001b[0m                                 Traceback (most recent call last)",
      "Cell \u001b[0;32mIn[7], line 11\u001b[0m\n\u001b[1;32m      8\u001b[0m \u001b[38;5;28mopen\u001b[39m(\u001b[38;5;124m\"\u001b[39m\u001b[38;5;124mmodel.tflite\u001b[39m\u001b[38;5;124m\"\u001b[39m, \u001b[38;5;124m\"\u001b[39m\u001b[38;5;124mwb\u001b[39m\u001b[38;5;124m\"\u001b[39m)\u001b[38;5;241m.\u001b[39mwrite(tflite_model)\n\u001b[1;32m     10\u001b[0m \u001b[38;5;66;03m# 量化模型, 定义输入格式与大小，只需要修改(-1, 6 * SAMPLES_PER_GESTURE,)与上面对应即可，其余不用变\u001b[39;00m\n\u001b[0;32m---> 11\u001b[0m data_test \u001b[38;5;241m=\u001b[39m \u001b[43mxTest\u001b[49m\u001b[38;5;241m.\u001b[39mastype(\u001b[38;5;124m\"\u001b[39m\u001b[38;5;124mfloat32\u001b[39m\u001b[38;5;124m\"\u001b[39m)\n\u001b[1;32m     12\u001b[0m \u001b[38;5;66;03m# np.reshape 和一开始数据集导入对应\u001b[39;00m\n\u001b[1;32m     13\u001b[0m \u001b[38;5;66;03m# MLP\u001b[39;00m\n\u001b[1;32m     14\u001b[0m \u001b[38;5;66;03m# data_test = np.reshape(data_test, (-1, 6 * SAMPLES_PER_GESTURE, ))\u001b[39;00m\n\u001b[1;32m     15\u001b[0m \u001b[38;5;66;03m# CNN 1\u001b[39;00m\n\u001b[1;32m     16\u001b[0m data_test \u001b[38;5;241m=\u001b[39m np\u001b[38;5;241m.\u001b[39mreshape(data_test, (\u001b[38;5;241m-\u001b[39m\u001b[38;5;241m1\u001b[39m, \u001b[38;5;241m6\u001b[39m \u001b[38;5;241m*\u001b[39m SAMPLES_PER_GESTURE, \u001b[38;5;241m1\u001b[39m))\n",
      "\u001b[0;31mNameError\u001b[0m: name 'xTest' is not defined"
     ]
    }
   ],
   "source": [
    "# Convert the model to the TensorFlow Lite format with quantization\n",
    "# 加载模型\n",
    "model = load_model(filepath)\n",
    "converter = tf.lite.TFLiteConverter.from_keras_model(model)\n",
    "tflite_model = converter.convert()\n",
    "# 保存初始版本，后续对比用\n",
    "open(\"model_basic.tflite\", \"wb\").write(tflite_model)\n",
    "open(\"model.tflite\", \"wb\").write(tflite_model)\n",
    "\n",
    "# 量化模型, 定义输入格式与大小，只需要修改(-1, 6 * SAMPLES_PER_GESTURE,)与上面对应即可，其余不用变\n",
    "data_test = xTest.astype(\"float32\")\n",
    "# np.reshape 和一开始数据集导入对应\n",
    "# MLP\n",
    "# data_test = np.reshape(data_test, (-1, 6 * SAMPLES_PER_GESTURE, ))\n",
    "# CNN 1\n",
    "data_test = np.reshape(data_test, (-1, 6 * SAMPLES_PER_GESTURE, 1))\n",
    "data_ds = tf.data.Dataset.from_tensor_slices((data_test)).batch(1)\n",
    "# Rest of your code...\n",
    "def representative_data_gen():\n",
    "    for input_value in data_ds.take(100):\n",
    "        yield [input_value]\n",
    "converter.representative_dataset = representative_data_gen\n",
    "converter.optimizations = [tf.lite.Optimize.OPTIMIZE_FOR_SIZE]\n",
    "tflite_model = converter.convert()\n",
    "open(\"model.tflite\", \"wb\").write(tflite_model)\n",
    "\n",
    "# 量化前后对比\n",
    "basic_model_size = os.path.getsize(\"model_basic.tflite\")\n",
    "print(\"Basic model is %d bytes\" % basic_model_size)\n",
    "quantized_model_size = os.path.getsize(\"model.tflite\")\n",
    "print(\"Quantized model is %d bytes\" % quantized_model_size)\n",
    "difference = basic_model_size - quantized_model_size\n",
    "print(\"Difference is %d bytes\" % difference)"
   ]
  },
  {
   "cell_type": "markdown",
   "metadata": {},
   "source": [
    "前面，通过量化，帮助我们模型节省了2440Bytes大小。需要验证量化后的模型输入格式和尺寸是否正确"
   ]
  },
  {
   "cell_type": "code",
   "execution_count": 6,
   "metadata": {},
   "outputs": [
    {
     "name": "stdout",
     "output_type": "stream",
     "text": [
      "(1, 60)\n",
      "Digit: 3.0 - Prediction:\n",
      "[[0.         0.         0.         0.99609375]]\n",
      "\n",
      "(1, 60)\n",
      "Digit: 3.0 - Prediction:\n",
      "[[0.         0.         0.         0.99609375]]\n",
      "\n",
      "(1, 60)\n",
      "Digit: 0.0 - Prediction:\n",
      "[[0.87890625 0.01171875 0.10546875 0.        ]]\n",
      "\n",
      "(1, 60)\n",
      "Digit: 3.0 - Prediction:\n",
      "[[0.         0.         0.         0.99609375]]\n",
      "\n",
      "(1, 60)\n",
      "Digit: 2.0 - Prediction:\n",
      "[[0.         0.         0.99609375 0.        ]]\n",
      "\n",
      "(1, 60)\n",
      "Digit: 0.0 - Prediction:\n",
      "[[0.87890625 0.01171875 0.10546875 0.        ]]\n",
      "\n",
      "(1, 60)\n",
      "Digit: 3.0 - Prediction:\n",
      "[[0.         0.         0.         0.99609375]]\n",
      "\n",
      "(1, 60)\n",
      "Digit: 3.0 - Prediction:\n",
      "[[0.         0.         0.         0.99609375]]\n",
      "\n",
      "(1, 60)\n",
      "Digit: 1.0 - Prediction:\n",
      "[[0.         0.99609375 0.         0.        ]]\n",
      "\n",
      "(1, 60)\n",
      "Digit: 0.0 - Prediction:\n",
      "[[0.87890625 0.01171875 0.10546875 0.        ]]\n",
      "\n",
      "(1, 60)\n",
      "Digit: 2.0 - Prediction:\n",
      "[[0.09765625 0.09765625 0.8046875  0.        ]]\n",
      "\n",
      "(1, 60)\n",
      "Digit: 1.0 - Prediction:\n",
      "[[0.         0.99609375 0.         0.        ]]\n",
      "\n",
      "(1, 60)\n",
      "Digit: 0.0 - Prediction:\n",
      "[[0.8046875  0.09765625 0.09765625 0.        ]]\n",
      "\n",
      "(1, 60)\n",
      "Digit: 2.0 - Prediction:\n",
      "[[0.015625 0.015625 0.96875  0.      ]]\n",
      "\n",
      "(1, 60)\n",
      "Digit: 3.0 - Prediction:\n",
      "[[0.         0.         0.         0.99609375]]\n",
      "\n",
      "(1, 60)\n",
      "Digit: 0.0 - Prediction:\n",
      "[[0.87890625 0.01171875 0.10546875 0.        ]]\n",
      "\n",
      "(1, 60)\n",
      "Digit: 1.0 - Prediction:\n",
      "[[0.         0.99609375 0.         0.        ]]\n",
      "\n",
      "(1, 60)\n",
      "Digit: 2.0 - Prediction:\n",
      "[[0.         0.         0.99609375 0.        ]]\n",
      "\n",
      "(1, 60)\n",
      "Digit: 3.0 - Prediction:\n",
      "[[0.         0.         0.         0.99609375]]\n",
      "\n",
      "(1, 60)\n",
      "Digit: 2.0 - Prediction:\n",
      "[[0.87890625 0.01171875 0.10546875 0.        ]]\n",
      "\n"
     ]
    },
    {
     "name": "stderr",
     "output_type": "stream",
     "text": [
      "INFO: Created TensorFlow Lite XNNPACK delegate for CPU.\n"
     ]
    }
   ],
   "source": [
    "# Now let's verify the model on a few input digits\n",
    "# Instantiate an interpreter for the model\n",
    "model_quantized_reloaded = tf.lite.Interpreter(\"model.tflite\")\n",
    "\n",
    "# Allocate memory for each model\n",
    "model_quantized_reloaded.allocate_tensors()\n",
    "\n",
    "# Get the input and output tensors so we can feed in values and get the results\n",
    "model_quantized_input = model_quantized_reloaded.get_input_details()[0][\"index\"]\n",
    "model_quantized_output = model_quantized_reloaded.get_output_details()[0][\"index\"]\n",
    "# Create arrays to store the results\n",
    "model_quantized_predictions = np.empty(xTest.size)\n",
    "for i in range(20):\n",
    "    # Reshape the data and ensure the type is float32\n",
    "    # test_data = np.reshape(\n",
    "    #     xTest[i],\n",
    "    #     (\n",
    "    #         1,\n",
    "    #         6 * SAMPLES_PER_GESTURE,\n",
    "    #         1,\n",
    "    #     ),\n",
    "    # ).astype(\"float32\")\n",
    "    test_data = np.expand_dims(xTest[i], axis=0).astype(\"float32\")\n",
    "    print(test_data.shape)\n",
    "    # Invoke the interpreter\n",
    "    model_quantized_reloaded.set_tensor(model_quantized_input, test_data)\n",
    "    model_quantized_reloaded.invoke()\n",
    "    model_quantized_prediction = model_quantized_reloaded.get_tensor(\n",
    "        model_quantized_output\n",
    "    )\n",
    "\n",
    "    print(\"Digit: {} - Prediction:\\n{}\".format(yTest[i], model_quantized_prediction))\n",
    "    print(\"\")"
   ]
  },
  {
   "cell_type": "code",
   "execution_count": null,
   "metadata": {},
   "outputs": [],
   "source": []
  }
 ],
 "metadata": {
  "kernelspec": {
   "display_name": "tf2",
   "language": "python",
   "name": "python3"
  },
  "language_info": {
   "codemirror_mode": {
    "name": "ipython",
    "version": 3
   },
   "file_extension": ".py",
   "mimetype": "text/x-python",
   "name": "python",
   "nbconvert_exporter": "python",
   "pygments_lexer": "ipython3",
   "version": "3.8.19"
  }
 },
 "nbformat": 4,
 "nbformat_minor": 2
}
